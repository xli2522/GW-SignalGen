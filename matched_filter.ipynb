{
  "nbformat": 4,
  "nbformat_minor": 0,
  "metadata": {
    "colab": {
      "name": "matched_filter.ipynb",
      "provenance": [],
      "collapsed_sections": [],
      "include_colab_link": true
    },
    "kernelspec": {
      "name": "python3",
      "display_name": "Python 3"
    },
    "language_info": {
      "name": "python"
    }
  },
  "cells": [
    {
      "cell_type": "markdown",
      "metadata": {
        "id": "view-in-github",
        "colab_type": "text"
      },
      "source": [
        "<a href=\"https://colab.research.google.com/github/xli2522/GW-SignalGen/blob/main/matched_filter.ipynb\" target=\"_parent\"><img src=\"https://colab.research.google.com/assets/colab-badge.svg\" alt=\"Open In Colab\"/></a>"
      ]
    },
    {
      "cell_type": "markdown",
      "metadata": {
        "id": "qAu1a17f9FyS"
      },
      "source": [
        "\n",
        "<img style=\"float: left;padding: 1.3em\" src=\"https://indico.in2p3.fr/event/18313/logo-786578160.png\">  \n",
        "#  Matched Filtering with Chirp Transform\n",
        "#####(Testing) \n",
        "##### © Xiyuan Li 2021, Department of Physics and Astronomy, Western University (UWO), London, Ontario, Canada\n",
        "##### Resources: \n",
        "[PyCBC](http://github.com/ligo-cbc/pycbc) + additional PyCBC [examples](http://pycbc.org/pycbc/latest/html/#library-examples-and-interactive-tutorials) and module level documentation are [here](http://pycbc.org/pycbc/latest/html/py-modindex.html).\n",
        "\n",
        "##### Code *Reference*:\n",
        "[gw-odw/odw-2020](http://github.com/gw-odw/odw-2020)"
      ]
    },
    {
      "cell_type": "code",
      "metadata": {
        "id": "_B5P5WZT9fZZ"
      },
      "source": [
        "! pip install -q 'lalsuite==6.66' 'PyCBC==1.15.3'"
      ],
      "execution_count": 9,
      "outputs": []
    },
    {
      "cell_type": "markdown",
      "metadata": {
        "id": "TwcnwXFDA5eS"
      },
      "source": [
        "#### Examples: ODW 2020"
      ]
    },
    {
      "cell_type": "code",
      "metadata": {
        "id": "ROO2uUf9AoRi"
      },
      "source": [
        "%matplotlib inline\n",
        "import numpy\n",
        "import pylab\n",
        "\n",
        "# specify the sample rate.\n",
        "# LIGO raw data is sampled at 16384 Hz (=2^14 samples/second).\n",
        "# It captures signal frequency content up to f_Nyquist = 8192 Hz.\n",
        "# Here, we will make the computation faster by sampling at a lower rate.\n",
        "sample_rate = 1024 # samples per second\n",
        "data_length = 1024 # seconds\n",
        "\n",
        "# Generate a long stretch of white noise: the data series and the time series.\n",
        "data = numpy.random.normal(size=[sample_rate * data_length])\n",
        "times = numpy.arange(len(data)) / float(sample_rate)"
      ],
      "execution_count": 10,
      "outputs": []
    },
    {
      "cell_type": "code",
      "metadata": {
        "colab": {
          "base_uri": "https://localhost:8080/",
          "height": 869
        },
        "id": "OY5OtyTYAvjq",
        "outputId": "fbe9e105-f9b3-414d-d3ed-a2ba5c1c6341"
      },
      "source": [
        "from pycbc.waveform import get_td_waveform\n",
        "\n",
        "# the \"approximant\" (jargon for parameterized waveform family).\n",
        "# IMRPhenomD is defined in the frequency domain, but we'll get it in the time domain (td).\n",
        "# It runs fast, but it doesn't include effects such as non-aligned component spin, or higher order modes.\n",
        "apx = 'IMRPhenomD'\n",
        "\n",
        "# You can specify many parameters, \n",
        "# https://pycbc.org/pycbc/latest/html/pycbc.waveform.html?highlight=get_td_waveform#pycbc.waveform.waveform.get_td_waveform\n",
        "# but here, we'll use defaults for everything except the masses.\n",
        "# It returns both hplus and hcross, but we'll only use hplus for now.\n",
        "hp1, _ = get_td_waveform(approximant=apx,\n",
        "                         mass1=10,\n",
        "                         mass2=10,\n",
        "                         delta_t=1.0/sample_rate,\n",
        "                         f_lower=25)\n",
        "\n",
        "# The amplitude of gravitational-wave signals is normally of order 1E-20. To demonstrate our method\n",
        "# on white noise with amplitude O(1) we normalize our signal so the cross-correlation of the signal with\n",
        "# itself will give a value of 1. In this case we can interpret the cross-correlation of the signal with white\n",
        "# noise as a signal-to-noise ratio.\n",
        "\n",
        "hp1 = hp1 / max(numpy.correlate(hp1,hp1, mode='full'))**0.5\n",
        "\n",
        "# note that in this figure, the waveform amplitude is of order 1.\n",
        "# The duration (for frequency above f_lower=25 Hz) is only 3 or 4 seconds long.\n",
        "# The waveform is \"tapered\": slowly ramped up from zero to full strength, over the first second or so.\n",
        "# It is zero-padded at earlier times.\n",
        "pylab.figure()\n",
        "pylab.title(\"The waveform hp1\")\n",
        "pylab.plot(hp1.sample_times, hp1)\n",
        "pylab.xlabel('Time (s)')\n",
        "pylab.ylabel('Normalized amplitude')\n",
        "\n",
        "# Shift the waveform to start at a random time in the Gaussian noise data.\n",
        "waveform_start = numpy.random.randint(0, len(data) - len(hp1))\n",
        "data[waveform_start:waveform_start+len(hp1)] += 10 * hp1.numpy()\n",
        "\n",
        "pylab.figure()\n",
        "pylab.title(\"Looks like random noise, right?\")\n",
        "pylab.plot(hp1.sample_times, data[waveform_start:waveform_start+len(hp1)])\n",
        "pylab.xlabel('Time (s)')\n",
        "pylab.ylabel('Normalized amplitude')\n",
        "\n",
        "pylab.figure()\n",
        "pylab.title(\"Signal in the data\")\n",
        "pylab.plot(hp1.sample_times, data[waveform_start:waveform_start+len(hp1)])\n",
        "pylab.plot(hp1.sample_times, 10 * hp1)\n",
        "pylab.xlabel('Time (s)')\n",
        "pylab.ylabel('Normalized amplitude')"
      ],
      "execution_count": 11,
      "outputs": [
        {
          "output_type": "execute_result",
          "data": {
            "text/plain": [
              "Text(0, 0.5, 'Normalized amplitude')"
            ]
          },
          "metadata": {},
          "execution_count": 11
        },
        {
          "output_type": "display_data",
          "data": {
            "image/png": "[encoded data removed]",
            "text/plain": [
              "<Figure size 432x288 with 1 Axes>"
            ]
          },
          "metadata": {
            "needs_background": "light"
          }
        },
        {
          "output_type": "display_data",
          "data": {
            "image/png": "[encoded data removed]",
            "text/plain": [
              "<Figure size 432x288 with 1 Axes>"
            ]
          },
          "metadata": {
            "needs_background": "light"
          }
        },
        {
          "output_type": "display_data",
          "data": {
            "image/png": "[encoded data removed]",
            "text/plain": [
              "<Figure size 432x288 with 1 Axes>"
            ]
          },
          "metadata": {
            "needs_background": "light"
          }
        }
      ]
    },
    {
      "cell_type": "markdown",
      "metadata": {
        "id": "jSuDccSeBGl7"
      },
      "source": [
        "##### Cross-corelation in the time domain"
      ]
    },
    {
      "cell_type": "code",
      "metadata": {
        "colab": {
          "base_uri": "https://localhost:8080/",
          "height": 297
        },
        "id": "m48eBjP8BEhb",
        "outputId": "2a9ecf27-b29a-4689-d07c-010001c13c64"
      },
      "source": [
        "cross_correlation = numpy.zeros([len(data)-len(hp1)])\n",
        "hp1_numpy = hp1.numpy()\n",
        "for i in range(len(data) - len(hp1_numpy)):\n",
        "    cross_correlation[i] = (hp1_numpy * data[i:i+len(hp1_numpy)]).sum()\n",
        "\n",
        "# plot the cross-correlated data vs time. Superimpose the location of the end of the signal;\n",
        "# this is where we should find a peak in the cross-correlation.\n",
        "pylab.figure()\n",
        "times = numpy.arange(len(data) - len(hp1_numpy)) / float(sample_rate)\n",
        "pylab.plot(times, cross_correlation)\n",
        "pylab.plot([waveform_start/float(sample_rate), waveform_start/float(sample_rate)], [-10,10],'r:')\n",
        "pylab.xlabel('Time (s)')\n",
        "pylab.ylabel('Cross-correlation')"
      ],
      "execution_count": 12,
      "outputs": [
        {
          "output_type": "execute_result",
          "data": {
            "text/plain": [
              "Text(0, 0.5, 'Cross-correlation')"
            ]
          },
          "metadata": {},
          "execution_count": 12
        },
        {
          "output_type": "display_data",
          "data": {
            "image/png": "[encoded data removed]",
            "text/plain": [
              "<Figure size 432x288 with 1 Axes>"
            ]
          },
          "metadata": {
            "needs_background": "light"
          }
        }
      ]
    },
    {
      "cell_type": "markdown",
      "metadata": {
        "id": "NwwfBD5YBXRa"
      },
      "source": [
        "##### Colored LIGO Noise"
      ]
    },
    {
      "cell_type": "code",
      "metadata": {
        "colab": {
          "base_uri": "https://localhost:8080/",
          "height": 275
        },
        "id": "Tx-0TDwMBWYv",
        "outputId": "4fcdce45-58da-4e0a-cd2b-0a09a2216c86"
      },
      "source": [
        "# http://pycbc.org/pycbc/latest/html/noise.html\n",
        "import pycbc.noise\n",
        "import pycbc.psd\n",
        "\n",
        "# The color of the noise matches a PSD which you provide:\n",
        "# Generate a PSD matching Advanced LIGO's zero-detuned--high-power noise curve \n",
        "flow = 10.0\n",
        "delta_f = 1.0 / 128\n",
        "flen = int(sample_rate / (2 * delta_f)) + 1\n",
        "psd = pycbc.psd.aLIGOZeroDetHighPower(flen, delta_f, flow)\n",
        "\n",
        "# Generate colored noise\n",
        "delta_t = 1.0 / sample_rate\n",
        "ts = pycbc.noise.noise_from_psd(data_length*sample_rate, delta_t, psd, seed=127)\n",
        "\n",
        "# Estimate the amplitude spectral density (ASD = sqrt(PSD)) for the noisy data \n",
        "# using the \"welch\" method. We'll choose 4 seconds PSD samples that are overlapped 50%\n",
        "seg_len = int(4 / delta_t)\n",
        "seg_stride = int(seg_len / 2)\n",
        "estimated_psd = pycbc.psd.welch(ts,seg_len=seg_len,seg_stride=seg_stride)\n",
        "\n",
        "# plot it:\n",
        "pylab.loglog(estimated_psd.sample_frequencies, estimated_psd, label='estimate')\n",
        "pylab.loglog(psd.sample_frequencies, psd, linewidth=3, label='known psd')\n",
        "pylab.xlim(xmin=flow, xmax=512)\n",
        "pylab.ylim(1e-47, 1e-45)\n",
        "pylab.legend()\n",
        "pylab.grid()\n",
        "pylab.show()\n",
        "\n",
        "# add the signal, this time, with a \"typical\" amplitude.\n",
        "ts[waveform_start:waveform_start+len(hp1)] += hp1.numpy() * 1E-20"
      ],
      "execution_count": 13,
      "outputs": [
        {
          "output_type": "display_data",
          "data": {
            "image/png": "[encoded data removed]",
            "text/plain": [
              "<Figure size 432x288 with 1 Axes>"
            ]
          },
          "metadata": {
            "needs_background": "light"
          }
        }
      ]
    },
    {
      "cell_type": "code",
      "metadata": {
        "id": "HDuBuXWjBpHj"
      },
      "source": [
        "# Generate a PSD for whitening the data\n",
        "from pycbc.types import TimeSeries\n",
        "\n",
        "# The PSD, sampled properly for the noisy data\n",
        "flow = 10.0\n",
        "delta_f = 1.0 / data_length\n",
        "flen = int(sample_rate / (2 * delta_f)) + 1\n",
        "psd_td = pycbc.psd.aLIGOZeroDetHighPower(flen, delta_f, 0)\n",
        "\n",
        "# The PSD, sampled properly for the signal\n",
        "delta_f = sample_rate / float(len(hp1))\n",
        "flen = int(sample_rate / (2 * delta_f)) + 1\n",
        "psd_hp1 = pycbc.psd.aLIGOZeroDetHighPower(flen, delta_f, 0)\n",
        "\n",
        "# The 0th and Nth values are zero. Set them to a nearby value to avoid dividing by zero.\n",
        "psd_td[0] = psd_td[1]\n",
        "psd_td[len(psd_td) - 1] = psd_td[len(psd_td) - 2]\n",
        "# Same, for the PSD sampled for the signal\n",
        "psd_hp1[0] = psd_hp1[1]\n",
        "psd_hp1[len(psd_hp1) - 1] = psd_hp1[len(psd_hp1) - 2]\n",
        "\n",
        "# convert both noisy data and the signal to frequency domain,\n",
        "# and divide each by ASD=PSD**0.5, then convert back to time domain.\n",
        "# This \"whitens\" the data and the signal template. \n",
        "# Multiplying the signal template by 1E-21 puts it into realistic units of strain.\n",
        "data_whitened = (ts.to_frequencyseries() / psd_td**0.5).to_timeseries()\n",
        "hp1_whitened = (hp1.to_frequencyseries() / psd_hp1**0.5).to_timeseries() * 1E-21"
      ],
      "execution_count": 14,
      "outputs": []
    },
    {
      "cell_type": "code",
      "metadata": {
        "colab": {
          "base_uri": "https://localhost:8080/",
          "height": 297
        },
        "id": "E2AIN1bnBqqE",
        "outputId": "ad900cc5-b045-4223-efdc-b98255fd453e"
      },
      "source": [
        "# Now let's re-do the correlation, in the time domain, but with whitened data and template.\n",
        "cross_correlation = numpy.zeros([len(data)-len(hp1)])\n",
        "hp1n = hp1_whitened.numpy()\n",
        "datan = data_whitened.numpy()\n",
        "for i in range(len(datan) - len(hp1n)):\n",
        "    cross_correlation[i] = (hp1n * datan[i:i+len(hp1n)]).sum()\n",
        "\n",
        "# plot the cross-correlation in the time domain. Superimpose the location of the end of the signal.\n",
        "# Note how much bigger the cross-correlation peak is, relative to the noise level,\n",
        "# compared with the unwhitened version of the same quantity. SNR is much higher!\n",
        "pylab.figure()\n",
        "times = numpy.arange(len(datan) - len(hp1n)) / float(sample_rate)\n",
        "pylab.plot(times, cross_correlation)\n",
        "pylab.plot([waveform_start/float(sample_rate), waveform_start/float(sample_rate)],\n",
        "           [(min(cross_correlation))*1.1,(max(cross_correlation))*1.1],'r:')\n",
        "pylab.xlabel('Time (s)')\n",
        "pylab.ylabel('Cross-correlation')"
      ],
      "execution_count": 15,
      "outputs": [
        {
          "output_type": "execute_result",
          "data": {
            "text/plain": [
              "Text(0, 0.5, 'Cross-correlation')"
            ]
          },
          "metadata": {},
          "execution_count": 15
        },
        {
          "output_type": "display_data",
          "data": {
            "image/png": "[encoded data removed]",
            "text/plain": [
              "<Figure size 432x288 with 1 Axes>"
            ]
          },
          "metadata": {
            "needs_background": "light"
          }
        }
      ]
    },
    {
      "cell_type": "markdown",
      "metadata": {
        "id": "ywPPoivMDPWD"
      },
      "source": [
        "#### Reference: ODW 2020 Matched Filtering in Action\n"
      ]
    },
    {
      "cell_type": "markdown",
      "source": [
        "# Package outdated - will update later"
      ],
      "metadata": {
        "id": "vhELbVqgpx-t"
      }
    },
    {
      "cell_type": "code",
      "metadata": {
        "colab": {
          "base_uri": "https://localhost:8080/",
          "height": 543
        },
        "id": "daxHiwQPDdL6",
        "outputId": "f659d40b-668b-46b8-f151-edcc2bc4579b"
      },
      "source": [
        "import pylab\n",
        "from pycbc.catalog import Merger\n",
        "from pycbc.filter import resample_to_delta_t, highpass\n",
        "\n",
        "# As an example we use the GW150914 data\n",
        "merger = Merger(\"GW150914\")\n",
        "\n",
        "# Get the data from the Hanford detector\n",
        "strain = merger.strain('H1')\n",
        "\n",
        "# Remove the low frequency content and downsample the data to 2048Hz\n",
        "strain = highpass(strain, 15.0)\n",
        "strain = resample_to_delta_t(strain, 1.0/2048)\n",
        "\n",
        "pylab.plot(strain.sample_times, strain)\n",
        "pylab.xlabel('Time (s)')\n",
        "pylab.show()"
      ],
      "execution_count": 16,
      "outputs": [
        {
          "output_type": "error",
          "ename": "ModuleNotFoundError",
          "evalue": "ignored",
          "traceback": [
            "\u001b[0;31m---------------------------------------------------------------------------\u001b[0m",
            "\u001b[0;31mModuleNotFoundError\u001b[0m                       Traceback (most recent call last)",
            "\u001b[0;32m<ipython-input-16-de736b6379e2>\u001b[0m in \u001b[0;36m<module>\u001b[0;34m()\u001b[0m\n\u001b[1;32m      7\u001b[0m \u001b[0;34m\u001b[0m\u001b[0m\n\u001b[1;32m      8\u001b[0m \u001b[0;31m# Get the data from the Hanford detector\u001b[0m\u001b[0;34m\u001b[0m\u001b[0;34m\u001b[0m\u001b[0;34m\u001b[0m\u001b[0m\n\u001b[0;32m----> 9\u001b[0;31m \u001b[0mstrain\u001b[0m \u001b[0;34m=\u001b[0m \u001b[0mmerger\u001b[0m\u001b[0;34m.\u001b[0m\u001b[0mstrain\u001b[0m\u001b[0;34m(\u001b[0m\u001b[0;34m'H1'\u001b[0m\u001b[0;34m)\u001b[0m\u001b[0;34m\u001b[0m\u001b[0;34m\u001b[0m\u001b[0m\n\u001b[0m\u001b[1;32m     10\u001b[0m \u001b[0;34m\u001b[0m\u001b[0m\n\u001b[1;32m     11\u001b[0m \u001b[0;31m# Remove the low frequency content and downsample the data to 2048Hz\u001b[0m\u001b[0;34m\u001b[0m\u001b[0;34m\u001b[0m\u001b[0;34m\u001b[0m\u001b[0m\n",
            "\u001b[0;32m/usr/local/lib/python3.7/dist-packages/pycbc/catalog/__init__.py\u001b[0m in \u001b[0;36mstrain\u001b[0;34m(self, ifo, duration, sample_rate)\u001b[0m\n\u001b[1;32m     88\u001b[0m         \"\"\"\n\u001b[1;32m     89\u001b[0m         \u001b[0;32mfrom\u001b[0m \u001b[0mastropy\u001b[0m\u001b[0;34m.\u001b[0m\u001b[0mutils\u001b[0m\u001b[0;34m.\u001b[0m\u001b[0mdata\u001b[0m \u001b[0;32mimport\u001b[0m \u001b[0mdownload_file\u001b[0m\u001b[0;34m\u001b[0m\u001b[0;34m\u001b[0m\u001b[0m\n\u001b[0;32m---> 90\u001b[0;31m         \u001b[0;32mfrom\u001b[0m \u001b[0mpycbc\u001b[0m\u001b[0;34m.\u001b[0m\u001b[0mframe\u001b[0m \u001b[0;32mimport\u001b[0m \u001b[0mread_frame\u001b[0m\u001b[0;34m\u001b[0m\u001b[0;34m\u001b[0m\u001b[0m\n\u001b[0m\u001b[1;32m     91\u001b[0m \u001b[0;34m\u001b[0m\u001b[0m\n\u001b[1;32m     92\u001b[0m         \u001b[0;31m# Information is currently wrong on GWOSC!\u001b[0m\u001b[0;34m\u001b[0m\u001b[0;34m\u001b[0m\u001b[0;34m\u001b[0m\u001b[0m\n",
            "\u001b[0;32m/usr/local/lib/python3.7/dist-packages/pycbc/frame/__init__.py\u001b[0m in \u001b[0;36m<module>\u001b[0;34m()\u001b[0m\n\u001b[0;32m----> 1\u001b[0;31m from . frame import (locations_to_cache, read_frame, datafind_connection,\n\u001b[0m\u001b[1;32m      2\u001b[0m                      \u001b[0mquery_and_read_frame\u001b[0m\u001b[0;34m,\u001b[0m \u001b[0mframe_paths\u001b[0m\u001b[0;34m,\u001b[0m \u001b[0mwrite_frame\u001b[0m\u001b[0;34m,\u001b[0m\u001b[0;34m\u001b[0m\u001b[0;34m\u001b[0m\u001b[0m\n\u001b[1;32m      3\u001b[0m                      DataBuffer, StatusBuffer)\n\u001b[1;32m      4\u001b[0m \u001b[0;34m\u001b[0m\u001b[0m\n\u001b[1;32m      5\u001b[0m \u001b[0;32mfrom\u001b[0m \u001b[0;34m.\u001b[0m \u001b[0mstore\u001b[0m \u001b[0;32mimport\u001b[0m \u001b[0;34m(\u001b[0m\u001b[0mread_store\u001b[0m\u001b[0;34m)\u001b[0m\u001b[0;34m\u001b[0m\u001b[0;34m\u001b[0m\u001b[0m\n",
            "\u001b[0;32m/usr/local/lib/python3.7/dist-packages/pycbc/frame/frame.py\u001b[0m in \u001b[0;36m<module>\u001b[0;34m()\u001b[0m\n\u001b[1;32m     22\u001b[0m \u001b[0;32mimport\u001b[0m \u001b[0mnumpy\u001b[0m\u001b[0;34m\u001b[0m\u001b[0;34m\u001b[0m\u001b[0m\n\u001b[1;32m     23\u001b[0m \u001b[0;32mimport\u001b[0m \u001b[0mos\u001b[0m\u001b[0;34m.\u001b[0m\u001b[0mpath\u001b[0m\u001b[0;34m,\u001b[0m \u001b[0mglob\u001b[0m\u001b[0;34m,\u001b[0m \u001b[0mtime\u001b[0m\u001b[0;34m\u001b[0m\u001b[0;34m\u001b[0m\u001b[0m\n\u001b[0;32m---> 24\u001b[0;31m \u001b[0;32mimport\u001b[0m \u001b[0mglue\u001b[0m\u001b[0;34m.\u001b[0m\u001b[0mdatafind\u001b[0m\u001b[0;34m\u001b[0m\u001b[0;34m\u001b[0m\u001b[0m\n\u001b[0m\u001b[1;32m     25\u001b[0m \u001b[0;32mfrom\u001b[0m \u001b[0mpycbc\u001b[0m\u001b[0;34m.\u001b[0m\u001b[0mtypes\u001b[0m \u001b[0;32mimport\u001b[0m \u001b[0mTimeSeries\u001b[0m\u001b[0;34m,\u001b[0m \u001b[0mzeros\u001b[0m\u001b[0;34m\u001b[0m\u001b[0;34m\u001b[0m\u001b[0m\n\u001b[1;32m     26\u001b[0m \u001b[0;34m\u001b[0m\u001b[0m\n",
            "\u001b[0;31mModuleNotFoundError\u001b[0m: No module named 'glue.datafind'",
            "",
            "\u001b[0;31m---------------------------------------------------------------------------\u001b[0;32m\nNOTE: If your import is failing due to a missing package, you can\nmanually install dependencies using either !pip or !apt.\n\nTo view examples of installing some common dependencies, click the\n\"Open Examples\" button below.\n\u001b[0;31m---------------------------------------------------------------------------\u001b[0m\n"
          ],
          "errorDetails": {
            "actions": [
              {
                "action": "open_url",
                "actionText": "Open Examples",
                "url": "/notebooks/snippets/importing_libraries.ipynb"
              }
            ]
          }
        }
      ]
    },
    {
      "cell_type": "code",
      "metadata": {
        "id": "pKdVDm2MDglq"
      },
      "source": [
        "\n",
        "# Remove 2 seconds of data from both the beginning and end\n",
        "conditioned = strain.crop(2, 2)\n",
        "\n",
        "pylab.plot(conditioned.sample_times, conditioned)\n",
        "pylab.xlabel('Time (s)')\n",
        "pylab.show()"
      ],
      "execution_count": null,
      "outputs": []
    },
    {
      "cell_type": "code",
      "metadata": {
        "id": "BkiRXtwrDhhy"
      },
      "source": [
        "from pycbc.psd import interpolate, inverse_spectrum_truncation\n",
        "# Estimate the power spectral density\n",
        "\n",
        "# We use 4 second samples of our time series in Welch method.\n",
        "psd = conditioned.psd(4)\n",
        "\n",
        "# Now that we have the psd we need to interpolate it to match our data\n",
        "# and then limit the filter length of 1 / PSD. After this, we can\n",
        "# directly use this PSD to filter the data in a controlled manner\n",
        "psd = interpolate(psd, conditioned.delta_f)\n",
        "\n",
        "# 1/PSD will now act as a filter with an effective length of 4 seconds\n",
        "# Since the data has been highpassed above 15 Hz, and will have low values\n",
        "# below this we need to inform the function to not include frequencies\n",
        "# below this frequency. \n",
        "psd = inverse_spectrum_truncation(psd, 4 * conditioned.sample_rate,\n",
        "                                  low_frequency_cutoff=15)"
      ],
      "execution_count": null,
      "outputs": []
    },
    {
      "cell_type": "code",
      "metadata": {
        "id": "XwF0q_6DDoEL"
      },
      "source": [
        "from pycbc.waveform import get_td_waveform\n",
        "# In this case we \"know\" what the signal parameters are. In a search\n",
        "# we would grid over the parameters and calculate the SNR time series\n",
        "# for each one\n",
        "\n",
        "# We'll assume equal masses, and non-rotating black holes which is within the posterior probability\n",
        "# of GW150914. \n",
        "m = 36 # Solar masses\n",
        "hp, hc = get_td_waveform(approximant=\"SEOBNRv4_opt\",\n",
        "                     mass1=m,\n",
        "                     mass2=m,\n",
        "                     delta_t=conditioned.delta_t,\n",
        "                     f_lower=20)\n",
        "\n",
        "# We will resize the vector to match our data\n",
        "hp.resize(len(conditioned))\n",
        "\n",
        "# The waveform begins at the start of the vector, so if we want the\n",
        "# SNR time series to correspond to the approximate merger location\n",
        "# we need to shift the data so that the merger is approximately at the \n",
        "# first bin of the data.\n",
        "\n",
        "# The cyclic_time_shift method shifts the timeseries by a given amount of time.\n",
        "# It treats the data as if it were on a ring so points shifted off the end\n",
        "# of the series reappear at the start. Note that time stamps are *not* in\n",
        "# general affected (as the start time of the full array is shifted),\n",
        "# but the index of each point in the vector is.\n",
        "#\n",
        "# By convention waveforms returned from `get_td_waveform` have their\n",
        "# merger stamped with time zero, so we can use the start time to \n",
        "# shift the merger into position\n",
        "pylab.figure()\n",
        "pylab.title('Before shifting')\n",
        "pylab.plot(hp.sample_times, hp)\n",
        "pylab.xlabel('Time (s)')\n",
        "pylab.ylabel('Strain')\n",
        "\n",
        "template = hp.cyclic_time_shift(hp.start_time)\n",
        "\n",
        "pylab.figure()\n",
        "pylab.title('After shifting')\n",
        "pylab.plot(template.sample_times, template)\n",
        "pylab.xlabel('Time (s)')\n",
        "pylab.ylabel('Strain')"
      ],
      "execution_count": null,
      "outputs": []
    },
    {
      "cell_type": "markdown",
      "metadata": {
        "id": "LOcWcKPwDsEr"
      },
      "source": [
        "##### Signal to Noise Time Series\n"
      ]
    },
    {
      "cell_type": "code",
      "metadata": {
        "id": "EG_MyhfqDo7r"
      },
      "source": [
        "from pycbc.filter import matched_filter\n",
        "import numpy\n",
        "\n",
        "snr = matched_filter(template, conditioned,\n",
        "                     psd=psd, low_frequency_cutoff=20)\n",
        "\n",
        "# Remove time corrupted by the template filter and the psd filter\n",
        "# We remove 4 seonds at the beginning and end for the PSD filtering\n",
        "# And we remove 4 additional seconds at the beginning to account for\n",
        "# the template length (this is somewhat generous for \n",
        "# so short a template). A longer signal such as from a BNS, would \n",
        "# require much more padding at the beginning of the vector.\n",
        "snr = snr.crop(4 + 4, 4)\n",
        "\n",
        "# Why are we taking an abs() here?\n",
        "# The `matched_filter` function actually returns a 'complex' SNR.\n",
        "# What that means is that the real portion correponds to the SNR\n",
        "# associated with directly filtering the template with the data.\n",
        "# The imaginary portion corresponds to filtering with a template that\n",
        "# is 90 degrees out of phase. Since the phase of a signal may be \n",
        "# anything, we choose to maximize over the phase of the signal.\n",
        "pylab.figure(figsize=[10, 4])\n",
        "pylab.plot(snr.sample_times, abs(snr))\n",
        "pylab.ylabel('Signal-to-noise')\n",
        "pylab.xlabel('Time (s)')\n",
        "pylab.show()\n",
        "\n",
        "peak = abs(snr).numpy().argmax()\n",
        "snrp = snr[peak]\n",
        "time = snr.sample_times[peak]\n",
        "\n",
        "print(\"We found a signal at {}s with SNR {}\".format(time, \n",
        "                                                    abs(snrp)))"
      ],
      "execution_count": null,
      "outputs": []
    },
    {
      "cell_type": "code",
      "metadata": {
        "id": "0_pvOx_-DvU7"
      },
      "source": [
        "from pycbc.filter import sigma\n",
        "# The time, amplitude, and phase of the SNR peak tell us how to align\n",
        "# our proposed signal with the data.\n",
        "\n",
        "# Shift the template to the peak time\n",
        "dt = time - conditioned.start_time\n",
        "aligned = template.cyclic_time_shift(dt)\n",
        "\n",
        "# scale the template so that it would have SNR 1 in this data\n",
        "aligned /= sigma(aligned, psd=psd, low_frequency_cutoff=20.0)\n",
        "\n",
        "# Scale the template amplitude and phase to the peak value\n",
        "aligned = (aligned.to_frequencyseries() * snrp).to_timeseries()\n",
        "aligned.start_time = conditioned.start_time"
      ],
      "execution_count": null,
      "outputs": []
    },
    {
      "cell_type": "code",
      "metadata": {
        "id": "z_94x_URD0tr"
      },
      "source": [
        "# We do it this way so that we can whiten both the template and the data\n",
        "white_data = (conditioned.to_frequencyseries() / psd**0.5).to_timeseries()\n",
        "white_template = (aligned.to_frequencyseries() / psd**0.5).to_timeseries()\n",
        "\n",
        "white_data = white_data.highpass_fir(30., 512).lowpass_fir(300, 512)\n",
        "white_template = white_template.highpass_fir(30, 512).lowpass_fir(300, 512)\n",
        "\n",
        "# Select the time around the merger\n",
        "white_data = white_data.time_slice(merger.time-.2, merger.time+.1)\n",
        "white_template = white_template.time_slice(merger.time-.2, merger.time+.1)\n",
        "\n",
        "pylab.figure(figsize=[15, 3])\n",
        "pylab.title('PyCBC Matched Filtering Result of GW150914 Signal from the Hanford Detector')\n",
        "pylab.plot(white_data.sample_times, white_data, label=\"Data\")\n",
        "pylab.plot(white_template.sample_times, white_template, label=\"Template\")\n",
        "pylab.xlabel('Time (s)')\n",
        "pylab.legend()\n",
        "pylab.show()"
      ],
      "execution_count": null,
      "outputs": []
    },
    {
      "cell_type": "code",
      "metadata": {
        "id": "ZvWgmC5yD37D"
      },
      "source": [
        "subtracted = conditioned - aligned\n",
        "\n",
        "# Plot the original data and the subtracted signal data\n",
        "\n",
        "for data, title in [(conditioned, 'Original H1 Data'),\n",
        "                    (subtracted, 'Signal Subtracted from H1 Data')]:\n",
        "\n",
        "    t, f, p = data.whiten(4, 4).qtransform(.001,\n",
        "                                                  logfsteps=100,\n",
        "                                                  qrange=(8, 8),\n",
        "                                                  frange=(20, 512))\n",
        "    pylab.figure(figsize=[15, 3])\n",
        "    pylab.title(title)\n",
        "    pylab.pcolormesh(t, f, p**0.5, vmin=1, vmax=6)\n",
        "    pylab.yscale('log')\n",
        "    pylab.xlabel('Time (s)')\n",
        "    pylab.ylabel('Frequency (Hz)')\n",
        "    pylab.xlim(merger.time - 2, merger.time + 1)\n",
        "    pylab.show()"
      ],
      "execution_count": null,
      "outputs": []
    },
    {
      "cell_type": "markdown",
      "metadata": {
        "id": "CoYnfuSvEMIL"
      },
      "source": [
        "#### End of ODW 2020 Examples"
      ]
    }
  ]
}