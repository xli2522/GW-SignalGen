{
  "nbformat": 4,
  "nbformat_minor": 0,
  "metadata": {
    "colab": {
      "name": "GW_gen.ipynb",
      "provenance": [],
      "collapsed_sections": [],
      "authorship_tag": "ABX9TyNPrTDUVD/nXl/hFNL5dG1i",
      "include_colab_link": true
    },
    "kernelspec": {
      "name": "python3",
      "display_name": "Python 3"
    },
    "language_info": {
      "name": "python"
    },
    "widgets": {
      "application/vnd.jupyter.widget-state+json": {
        "e119d83050e54a8ba27d26d2039b82df": {
          "model_module": "@jupyter-widgets/controls",
          "model_name": "HBoxModel",
          "state": {
            "_view_name": "HBoxView",
            "_dom_classes": [],
            "_model_name": "HBoxModel",
            "_view_module": "@jupyter-widgets/controls",
            "_model_module_version": "1.5.0",
            "_view_count": null,
            "_view_module_version": "1.5.0",
            "box_style": "",
            "layout": "IPY_MODEL_fa3e6201f0c0410cb7b364d06f68244d",
            "_model_module": "@jupyter-widgets/controls",
            "children": [
              "IPY_MODEL_6ee10a3ee63148f88cfeefaefbd484be",
              "IPY_MODEL_ffa08447470c4024b2cd342d060b76a7"
            ]
          }
        },
        "fa3e6201f0c0410cb7b364d06f68244d": {
          "model_module": "@jupyter-widgets/base",
          "model_name": "LayoutModel",
          "state": {
            "_view_name": "LayoutView",
            "grid_template_rows": null,
            "right": null,
            "justify_content": null,
            "_view_module": "@jupyter-widgets/base",
            "overflow": null,
            "_model_module_version": "1.2.0",
            "_view_count": null,
            "flex_flow": null,
            "width": null,
            "min_width": null,
            "border": null,
            "align_items": null,
            "bottom": null,
            "_model_module": "@jupyter-widgets/base",
            "top": null,
            "grid_column": null,
            "overflow_y": null,
            "overflow_x": null,
            "grid_auto_flow": null,
            "grid_area": null,
            "grid_template_columns": null,
            "flex": null,
            "_model_name": "LayoutModel",
            "justify_items": null,
            "grid_row": null,
            "max_height": null,
            "align_content": null,
            "visibility": null,
            "align_self": null,
            "height": null,
            "min_height": null,
            "padding": null,
            "grid_auto_rows": null,
            "grid_gap": null,
            "max_width": null,
            "order": null,
            "_view_module_version": "1.2.0",
            "grid_template_areas": null,
            "object_position": null,
            "object_fit": null,
            "grid_auto_columns": null,
            "margin": null,
            "display": null,
            "left": null
          }
        },
        "6ee10a3ee63148f88cfeefaefbd484be": {
          "model_module": "@jupyter-widgets/controls",
          "model_name": "FloatProgressModel",
          "state": {
            "_view_name": "ProgressView",
            "style": "IPY_MODEL_c7c1342920ea4b66bc3cce06d87fb42d",
            "_dom_classes": [],
            "description": "100%",
            "_model_name": "FloatProgressModel",
            "bar_style": "success",
            "max": 600,
            "_view_module": "@jupyter-widgets/controls",
            "_model_module_version": "1.5.0",
            "value": 600,
            "_view_count": null,
            "_view_module_version": "1.5.0",
            "orientation": "horizontal",
            "min": 0,
            "description_tooltip": null,
            "_model_module": "@jupyter-widgets/controls",
            "layout": "IPY_MODEL_b715eec15039480895251f825ea8762d"
          }
        },
        "ffa08447470c4024b2cd342d060b76a7": {
          "model_module": "@jupyter-widgets/controls",
          "model_name": "HTMLModel",
          "state": {
            "_view_name": "HTMLView",
            "style": "IPY_MODEL_de6787284e3d4116bdc125eba9445b23",
            "_dom_classes": [],
            "description": "",
            "_model_name": "HTMLModel",
            "placeholder": "​",
            "_view_module": "@jupyter-widgets/controls",
            "_model_module_version": "1.5.0",
            "value": " 600/600 [09:19&lt;00:00,  1.07it/s]",
            "_view_count": null,
            "_view_module_version": "1.5.0",
            "description_tooltip": null,
            "_model_module": "@jupyter-widgets/controls",
            "layout": "IPY_MODEL_169041b8ccf348a4853186e2fa93e8b6"
          }
        },
        "c7c1342920ea4b66bc3cce06d87fb42d": {
          "model_module": "@jupyter-widgets/controls",
          "model_name": "ProgressStyleModel",
          "state": {
            "_view_name": "StyleView",
            "_model_name": "ProgressStyleModel",
            "description_width": "initial",
            "_view_module": "@jupyter-widgets/base",
            "_model_module_version": "1.5.0",
            "_view_count": null,
            "_view_module_version": "1.2.0",
            "bar_color": null,
            "_model_module": "@jupyter-widgets/controls"
          }
        },
        "b715eec15039480895251f825ea8762d": {
          "model_module": "@jupyter-widgets/base",
          "model_name": "LayoutModel",
          "state": {
            "_view_name": "LayoutView",
            "grid_template_rows": null,
            "right": null,
            "justify_content": null,
            "_view_module": "@jupyter-widgets/base",
            "overflow": null,
            "_model_module_version": "1.2.0",
            "_view_count": null,
            "flex_flow": null,
            "width": null,
            "min_width": null,
            "border": null,
            "align_items": null,
            "bottom": null,
            "_model_module": "@jupyter-widgets/base",
            "top": null,
            "grid_column": null,
            "overflow_y": null,
            "overflow_x": null,
            "grid_auto_flow": null,
            "grid_area": null,
            "grid_template_columns": null,
            "flex": null,
            "_model_name": "LayoutModel",
            "justify_items": null,
            "grid_row": null,
            "max_height": null,
            "align_content": null,
            "visibility": null,
            "align_self": null,
            "height": null,
            "min_height": null,
            "padding": null,
            "grid_auto_rows": null,
            "grid_gap": null,
            "max_width": null,
            "order": null,
            "_view_module_version": "1.2.0",
            "grid_template_areas": null,
            "object_position": null,
            "object_fit": null,
            "grid_auto_columns": null,
            "margin": null,
            "display": null,
            "left": null
          }
        },
        "de6787284e3d4116bdc125eba9445b23": {
          "model_module": "@jupyter-widgets/controls",
          "model_name": "DescriptionStyleModel",
          "state": {
            "_view_name": "StyleView",
            "_model_name": "DescriptionStyleModel",
            "description_width": "",
            "_view_module": "@jupyter-widgets/base",
            "_model_module_version": "1.5.0",
            "_view_count": null,
            "_view_module_version": "1.2.0",
            "_model_module": "@jupyter-widgets/controls"
          }
        },
        "169041b8ccf348a4853186e2fa93e8b6": {
          "model_module": "@jupyter-widgets/base",
          "model_name": "LayoutModel",
          "state": {
            "_view_name": "LayoutView",
            "grid_template_rows": null,
            "right": null,
            "justify_content": null,
            "_view_module": "@jupyter-widgets/base",
            "overflow": null,
            "_model_module_version": "1.2.0",
            "_view_count": null,
            "flex_flow": null,
            "width": null,
            "min_width": null,
            "border": null,
            "align_items": null,
            "bottom": null,
            "_model_module": "@jupyter-widgets/base",
            "top": null,
            "grid_column": null,
            "overflow_y": null,
            "overflow_x": null,
            "grid_auto_flow": null,
            "grid_area": null,
            "grid_template_columns": null,
            "flex": null,
            "_model_name": "LayoutModel",
            "justify_items": null,
            "grid_row": null,
            "max_height": null,
            "align_content": null,
            "visibility": null,
            "align_self": null,
            "height": null,
            "min_height": null,
            "padding": null,
            "grid_auto_rows": null,
            "grid_gap": null,
            "max_width": null,
            "order": null,
            "_view_module_version": "1.2.0",
            "grid_template_areas": null,
            "object_position": null,
            "object_fit": null,
            "grid_auto_columns": null,
            "margin": null,
            "display": null,
            "left": null
          }
        },
        "5be5202b224e42aabe0df64d070c0381": {
          "model_module": "@jupyter-widgets/controls",
          "model_name": "HBoxModel",
          "state": {
            "_view_name": "HBoxView",
            "_dom_classes": [],
            "_model_name": "HBoxModel",
            "_view_module": "@jupyter-widgets/controls",
            "_model_module_version": "1.5.0",
            "_view_count": null,
            "_view_module_version": "1.5.0",
            "box_style": "",
            "layout": "IPY_MODEL_9f7b2fcf6f884afba7d2a7b5b18c11e0",
            "_model_module": "@jupyter-widgets/controls",
            "children": [
              "IPY_MODEL_a1d5655c053540f09aec300e4ce7db6e",
              "IPY_MODEL_2c3407805a3e4d8c972cd4900495828f"
            ]
          }
        },
        "9f7b2fcf6f884afba7d2a7b5b18c11e0": {
          "model_module": "@jupyter-widgets/base",
          "model_name": "LayoutModel",
          "state": {
            "_view_name": "LayoutView",
            "grid_template_rows": null,
            "right": null,
            "justify_content": null,
            "_view_module": "@jupyter-widgets/base",
            "overflow": null,
            "_model_module_version": "1.2.0",
            "_view_count": null,
            "flex_flow": null,
            "width": null,
            "min_width": null,
            "border": null,
            "align_items": null,
            "bottom": null,
            "_model_module": "@jupyter-widgets/base",
            "top": null,
            "grid_column": null,
            "overflow_y": null,
            "overflow_x": null,
            "grid_auto_flow": null,
            "grid_area": null,
            "grid_template_columns": null,
            "flex": null,
            "_model_name": "LayoutModel",
            "justify_items": null,
            "grid_row": null,
            "max_height": null,
            "align_content": null,
            "visibility": null,
            "align_self": null,
            "height": null,
            "min_height": null,
            "padding": null,
            "grid_auto_rows": null,
            "grid_gap": null,
            "max_width": null,
            "order": null,
            "_view_module_version": "1.2.0",
            "grid_template_areas": null,
            "object_position": null,
            "object_fit": null,
            "grid_auto_columns": null,
            "margin": null,
            "display": null,
            "left": null
          }
        },
        "a1d5655c053540f09aec300e4ce7db6e": {
          "model_module": "@jupyter-widgets/controls",
          "model_name": "FloatProgressModel",
          "state": {
            "_view_name": "ProgressView",
            "style": "IPY_MODEL_5102989ffe1144f6a2404413c890a341",
            "_dom_classes": [],
            "description": "100%",
            "_model_name": "FloatProgressModel",
            "bar_style": "success",
            "max": 300,
            "_view_module": "@jupyter-widgets/controls",
            "_model_module_version": "1.5.0",
            "value": 300,
            "_view_count": null,
            "_view_module_version": "1.5.0",
            "orientation": "horizontal",
            "min": 0,
            "description_tooltip": null,
            "_model_module": "@jupyter-widgets/controls",
            "layout": "IPY_MODEL_ec977410b917467f986a2f200062f3e7"
          }
        },
        "2c3407805a3e4d8c972cd4900495828f": {
          "model_module": "@jupyter-widgets/controls",
          "model_name": "HTMLModel",
          "state": {
            "_view_name": "HTMLView",
            "style": "IPY_MODEL_f0a82e60f34044e684ae1c8b06564374",
            "_dom_classes": [],
            "description": "",
            "_model_name": "HTMLModel",
            "placeholder": "​",
            "_view_module": "@jupyter-widgets/controls",
            "_model_module_version": "1.5.0",
            "value": " 300/300 [02:13&lt;00:00,  2.25it/s]",
            "_view_count": null,
            "_view_module_version": "1.5.0",
            "description_tooltip": null,
            "_model_module": "@jupyter-widgets/controls",
            "layout": "IPY_MODEL_0931f713d2584270847ba71142f21a99"
          }
        },
        "5102989ffe1144f6a2404413c890a341": {
          "model_module": "@jupyter-widgets/controls",
          "model_name": "ProgressStyleModel",
          "state": {
            "_view_name": "StyleView",
            "_model_name": "ProgressStyleModel",
            "description_width": "initial",
            "_view_module": "@jupyter-widgets/base",
            "_model_module_version": "1.5.0",
            "_view_count": null,
            "_view_module_version": "1.2.0",
            "bar_color": null,
            "_model_module": "@jupyter-widgets/controls"
          }
        },
        "ec977410b917467f986a2f200062f3e7": {
          "model_module": "@jupyter-widgets/base",
          "model_name": "LayoutModel",
          "state": {
            "_view_name": "LayoutView",
            "grid_template_rows": null,
            "right": null,
            "justify_content": null,
            "_view_module": "@jupyter-widgets/base",
            "overflow": null,
            "_model_module_version": "1.2.0",
            "_view_count": null,
            "flex_flow": null,
            "width": null,
            "min_width": null,
            "border": null,
            "align_items": null,
            "bottom": null,
            "_model_module": "@jupyter-widgets/base",
            "top": null,
            "grid_column": null,
            "overflow_y": null,
            "overflow_x": null,
            "grid_auto_flow": null,
            "grid_area": null,
            "grid_template_columns": null,
            "flex": null,
            "_model_name": "LayoutModel",
            "justify_items": null,
            "grid_row": null,
            "max_height": null,
            "align_content": null,
            "visibility": null,
            "align_self": null,
            "height": null,
            "min_height": null,
            "padding": null,
            "grid_auto_rows": null,
            "grid_gap": null,
            "max_width": null,
            "order": null,
            "_view_module_version": "1.2.0",
            "grid_template_areas": null,
            "object_position": null,
            "object_fit": null,
            "grid_auto_columns": null,
            "margin": null,
            "display": null,
            "left": null
          }
        },
        "f0a82e60f34044e684ae1c8b06564374": {
          "model_module": "@jupyter-widgets/controls",
          "model_name": "DescriptionStyleModel",
          "state": {
            "_view_name": "StyleView",
            "_model_name": "DescriptionStyleModel",
            "description_width": "",
            "_view_module": "@jupyter-widgets/base",
            "_model_module_version": "1.5.0",
            "_view_count": null,
            "_view_module_version": "1.2.0",
            "_model_module": "@jupyter-widgets/controls"
          }
        },
        "0931f713d2584270847ba71142f21a99": {
          "model_module": "@jupyter-widgets/base",
          "model_name": "LayoutModel",
          "state": {
            "_view_name": "LayoutView",
            "grid_template_rows": null,
            "right": null,
            "justify_content": null,
            "_view_module": "@jupyter-widgets/base",
            "overflow": null,
            "_model_module_version": "1.2.0",
            "_view_count": null,
            "flex_flow": null,
            "width": null,
            "min_width": null,
            "border": null,
            "align_items": null,
            "bottom": null,
            "_model_module": "@jupyter-widgets/base",
            "top": null,
            "grid_column": null,
            "overflow_y": null,
            "overflow_x": null,
            "grid_auto_flow": null,
            "grid_area": null,
            "grid_template_columns": null,
            "flex": null,
            "_model_name": "LayoutModel",
            "justify_items": null,
            "grid_row": null,
            "max_height": null,
            "align_content": null,
            "visibility": null,
            "align_self": null,
            "height": null,
            "min_height": null,
            "padding": null,
            "grid_auto_rows": null,
            "grid_gap": null,
            "max_width": null,
            "order": null,
            "_view_module_version": "1.2.0",
            "grid_template_areas": null,
            "object_position": null,
            "object_fit": null,
            "grid_auto_columns": null,
            "margin": null,
            "display": null,
            "left": null
          }
        }
      }
    }
  },
  "cells": [
    {
      "cell_type": "markdown",
      "metadata": {
        "id": "view-in-github",
        "colab_type": "text"
      },
      "source": [
        "<a href=\"https://colab.research.google.com/github/xli2522/GW-SignalGen/blob/main/GW_gen.ipynb\" target=\"_parent\"><img src=\"https://colab.research.google.com/assets/colab-badge.svg\" alt=\"Open In Colab\"/></a>"
      ]
    },
    {
      "cell_type": "markdown",
      "metadata": {
        "id": "bXbfQrcO607T"
      },
      "source": [
        "<img style=\"float: left;padding: 1.3em\" src=\"https://indico.in2p3.fr/event/18313/logo-786578160.png\">  \n",
        "#  Generating Gravitational Wave Signals with Noise \n",
        "#####(for GW Classifier Training) \n",
        "##### © Xiyuan Li 2021, Department of Physics and Astronomy, Western University (UWO), London, Ontario, Canada\n",
        "##### Resources: \n",
        "[PyCBC](http://github.com/ligo-cbc/pycbc) + additional PyCBC [examples](http://pycbc.org/pycbc/latest/html/#library-examples-and-interactive-tutorials) and module level documentation are [here](http://pycbc.org/pycbc/latest/html/py-modindex.html).\n",
        "\n",
        "##### Code *Reference*:\n",
        "[gw-odw/odw-2020](http://github.com/gw-odw/odw-2020)"
      ]
    },
    {
      "cell_type": "code",
      "metadata": {
        "colab": {
          "base_uri": "https://localhost:8080/"
        },
        "id": "hjLbj2hZ6njI",
        "outputId": "ad49b4bb-e9a8-461f-bf04-76fe2d7dedd7"
      },
      "source": [
        "# -- Uncomment following line if running in Google Colab\n",
        "! pip install -q 'PyCBC==1.15.3' 'lalsuite==6.66'"
      ],
      "execution_count": 4,
      "outputs": [
        {
          "output_type": "stream",
          "text": [
            "\u001b[K     |████████████████████████████████| 3.1MB 4.3MB/s \n",
            "\u001b[?25h  Installing build dependencies ... \u001b[?25l\u001b[?25hdone\n",
            "  Getting requirements to build wheel ... \u001b[?25l\u001b[?25hdone\n",
            "    Preparing wheel metadata ... \u001b[?25l\u001b[?25hdone\n",
            "\u001b[K     |████████████████████████████████| 28.5MB 117kB/s \n",
            "\u001b[K     |████████████████████████████████| 61kB 7.3MB/s \n",
            "\u001b[K     |████████████████████████████████| 81kB 9.9MB/s \n",
            "\u001b[K     |████████████████████████████████| 890kB 41.0MB/s \n",
            "\u001b[K     |████████████████████████████████| 1.6MB 37.2MB/s \n",
            "\u001b[K     |████████████████████████████████| 61kB 7.8MB/s \n",
            "\u001b[K     |████████████████████████████████| 3.2MB 31.5MB/s \n",
            "\u001b[?25h  Building wheel for PyCBC (PEP 517) ... \u001b[?25l\u001b[?25hdone\n",
            "  Building wheel for ligo-segments (setup.py) ... \u001b[?25l\u001b[?25hdone\n",
            "  Building wheel for emcee (setup.py) ... \u001b[?25l\u001b[?25hdone\n",
            "  Building wheel for mpld3 (setup.py) ... \u001b[?25l\u001b[?25hdone\n",
            "  Building wheel for lscsoft-glue (setup.py) ... \u001b[?25l\u001b[?25hdone\n"
          ],
          "name": "stdout"
        }
      ]
    },
    {
      "cell_type": "code",
      "metadata": {
        "id": "FRQapNbZ70kL"
      },
      "source": [
        "# Initialization\n",
        "%matplotlib inline\n",
        "\n",
        "from pycbc.waveform import get_td_waveform\n",
        "import pylab\n",
        "import numpy as np\n",
        "import pandas as pd\n",
        "import matplotlib.pyplot as plt\n",
        "import sklearn as learn\n",
        "import time\n",
        "import tqdm    #progress bar"
      ],
      "execution_count": 105,
      "outputs": []
    },
    {
      "cell_type": "markdown",
      "metadata": {
        "id": "JBQ18zdMGJeY"
      },
      "source": [
        "## 1 Generating GW Waveforms\n",
        "### 1.1 Generating GW Waveform using SEOBNRv4\n",
        "##### [PyCBC.waveform.getwaveform Doc](https://pycbc.org/pycbc/latest/html/pycbc.waveform.html#module-pycbc.waveform.waveform)\n",
        "###### Unused parameters include spin, tidal deformability, monopole, and more."
      ]
    },
    {
      "cell_type": "code",
      "metadata": {
        "colab": {
          "base_uri": "https://localhost:8080/",
          "height": 635
        },
        "id": "ayotApQV8ema",
        "outputId": "3a1b5f9c-f17f-43b9-daa4-d55996f6ac6e"
      },
      "source": [
        "# Generating one example waveform \n",
        "# The output of this function are the \"plus\" and \"cross\" polarizations of the gravitational-wave signal \n",
        "# as viewed from the line of sight at a given source inclination (assumed face-on if not provided)\n",
        "hp, hc = get_td_waveform(approximant=\"SEOBNRv4_opt\",\n",
        "                         mass1=10,\n",
        "                         mass2=10,\n",
        "                         delta_t=1.0/4096,\n",
        "                         f_lower=30,\n",
        "                         distance=5)\n",
        "\n",
        "pylab.plot(hp.sample_times, hp, label='Plus Polarization')\n",
        "pylab.plot(hp.sample_times, hc, label='Cross Polarization')\n",
        "pylab.xlabel('Time (s)')\n",
        "pylab.legend()\n",
        "pylab.grid()\n",
        "pylab.show()\n",
        "\n",
        "# Zoom in near the merger time#\n",
        "pylab.plot(hp.sample_times, hp, label='Plus Polarization')\n",
        "pylab.plot(hp.sample_times, hc, label='Cross Polarization')\n",
        "pylab.xlabel('Time (s)')\n",
        "pylab.xlim(-.01, .01)\n",
        "pylab.legend()\n",
        "pylab.grid()\n",
        "pylab.show()\n",
        "\n",
        "# verify container type and data extraction\n",
        "print(type(hc))\n",
        "testing_container = np.zeros(2, dtype=object)\n",
        "print(testing_container[0])\n",
        "testing_container[0], testing_container[1] = hp, hc\n",
        "print(testing_container)"
      ],
      "execution_count": 96,
      "outputs": [
        {
          "output_type": "display_data",
          "data": {
            "image/png": "[encoded data removed]",
            "text/plain": [
              "<Figure size 432x288 with 1 Axes>"
            ]
          },
          "metadata": {
            "tags": [],
            "needs_background": "light"
          }
        },
        {
          "output_type": "display_data",
          "data": {
            "image/png": "[encoded data removed]",
            "text/plain": [
              "<Figure size 432x288 with 1 Axes>"
            ]
          },
          "metadata": {
            "tags": [],
            "needs_background": "light"
          }
        },
        {
          "output_type": "stream",
          "text": [
            "<class 'pycbc.types.timeseries.TimeSeries'>\n",
            "0\n",
            "[<pycbc.types.timeseries.TimeSeries object at 0x7f3cb8bbb890>\n",
            " <pycbc.types.timeseries.TimeSeries object at 0x7f3cb8bbb1d0>]\n"
          ],
          "name": "stdout"
        }
      ]
    },
    {
      "cell_type": "markdown",
      "metadata": {
        "id": "BSxq0zuuIbi_"
      },
      "source": [
        "### 1.2 Generating N GW Waveforms using SEOBNRv4 and IMRPhenomD\n",
        "#### Binary Mass Ratio Range"
      ]
    },
    {
      "cell_type": "code",
      "metadata": {
        "colab": {
          "base_uri": "https://localhost:8080/"
        },
        "id": "tp_lIhTAlj4k",
        "outputId": "0ff336c0-652a-4fbc-e523-17b5c767ce6a"
      },
      "source": [
        "#Unison Shuffle if not using sklearn\n",
        "def unisonShuffle(a, b):\n",
        "    rng_state = np.random.get_state()\n",
        "    permu_a = np.random.shuffle(a)\n",
        "    np.random.set_state(rng_state)\n",
        "    permu_b = np.random.shuffle(b)\n",
        "\n",
        "    return permu_a, permu_b\n",
        "\n",
        "#testing\n",
        "#1. unisonShuffle\n",
        "a, b = unisonShuffle(np.arange(10), np.arange(10))\n",
        "print(a==b)"
      ],
      "execution_count": 97,
      "outputs": [
        {
          "output_type": "stream",
          "text": [
            "True\n"
          ],
          "name": "stdout"
        }
      ]
    },
    {
      "cell_type": "code",
      "metadata": {
        "id": "AJqyqfTjBj7i",
        "colab": {
          "base_uri": "https://localhost:8080/"
        },
        "outputId": "77d11bb1-c66e-4042-8c99-f897a48e2cbc"
      },
      "source": [
        "# Generate a set of N parameter inputs\n",
        "# Upper limit: Y = X\n",
        "# Lower limit: Y = .2*X \n",
        "# k parameter interval 0.1\n",
        "# X range= [5, 40]\n",
        "# Interval: ...\n",
        "\n",
        "for i in range(9):\n",
        "  m1 = np.linspace(5, 40, 100)\n",
        "  m2 = (0.2+0.1*i)*m1\n",
        "  if i == 0:\n",
        "      sum_m1 = m1\n",
        "      sum_m2 = m2\n",
        "  else:\n",
        "      sum_m1 = np.asarray(np.concatenate((sum_m1, m1), axis=0))\n",
        "      sum_m2 = np.asarray(np.concatenate((sum_m2, m2), axis=0))\n",
        "\n",
        "np.random.seed(5625)\n",
        "unisonShuffle(sum_m1, sum_m2)\n",
        "\n",
        "#total pairs of masses\n",
        "N = len(sum_m1)\n",
        "print('Total # of Masses ' + str(N))"
      ],
      "execution_count": 100,
      "outputs": [
        {
          "output_type": "stream",
          "text": [
            "Total # of Masses 900\n"
          ],
          "name": "stdout"
        }
      ]
    },
    {
      "cell_type": "code",
      "metadata": {
        "colab": {
          "base_uri": "https://localhost:8080/"
        },
        "id": "lr9fjJ3nvz77",
        "outputId": "cfb0f66a-78b4-4c09-d104-5cb22dabc5c4"
      },
      "source": [
        "#Generate training and testing sets\n",
        "training_m1 = sum_m1[int(N/3):]\n",
        "training_m2 = sum_m2[int(N/3):]\n",
        "testing_m1 = sum_m1[:int(N/3)]\n",
        "testing_m2 = sum_m2[:int(N/3)]\n",
        "print('# of Traning masses ' + str(len(training_m1)))\n",
        "print('# of Testing masses ' + str(len(testing_m1)))"
      ],
      "execution_count": 101,
      "outputs": [
        {
          "output_type": "stream",
          "text": [
            "# of Traning masses 600\n",
            "# of Testing masses 300\n"
          ],
          "name": "stdout"
        }
      ]
    },
    {
      "cell_type": "code",
      "metadata": {
        "colab": {
          "base_uri": "https://localhost:8080/",
          "height": 295
        },
        "id": "-Ub8HgpcyUYB",
        "outputId": "61ca781f-8c84-42af-84e8-21e39b1722f7"
      },
      "source": [
        "#Plot Training and Testing Masses\n",
        "plt.figure()\n",
        "plt.scatter(training_m1, training_m2, c=b,s=5)\n",
        "plt.scatter(testing_m1, testing_m2,s=5)\n",
        "plt.xlabel('m1')\n",
        "plt.ylabel('m2')\n",
        "plt.legend(['Training', 'Testing'])\n",
        "plt.title('Testing and Training Masses')\n",
        "plt.show()"
      ],
      "execution_count": 102,
      "outputs": [
        {
          "output_type": "display_data",
          "data": {
            "image/png": "[encoded data removed]",
            "text/plain": [
              "<Figure size 432x288 with 1 Axes>"
            ]
          },
          "metadata": {
            "tags": [],
            "needs_background": "light"
          }
        }
      ]
    },
    {
      "cell_type": "markdown",
      "metadata": {
        "id": "dzGG6BXS2jzh"
      },
      "source": [
        "##### Generate Training and Testing Data"
      ]
    },
    {
      "cell_type": "code",
      "metadata": {
        "id": "OvJkfLaW1Nmn"
      },
      "source": [
        "%%capture\n",
        "from tqdm import tqdm.notebook.tqdm as tqdm\n",
        "tqdm().pandas()"
      ],
      "execution_count": 110,
      "outputs": []
    },
    {
      "cell_type": "markdown",
      "metadata": {
        "id": "JCX7Zung2qZv"
      },
      "source": [
        "###### Training Times Series"
      ]
    },
    {
      "cell_type": "code",
      "metadata": {
        "colab": {
          "base_uri": "https://localhost:8080/",
          "height": 158,
          "referenced_widgets": [
            "e119d83050e54a8ba27d26d2039b82df",
            "fa3e6201f0c0410cb7b364d06f68244d",
            "6ee10a3ee63148f88cfeefaefbd484be",
            "ffa08447470c4024b2cd342d060b76a7",
            "c7c1342920ea4b66bc3cce06d87fb42d",
            "b715eec15039480895251f825ea8762d",
            "de6787284e3d4116bdc125eba9445b23",
            "169041b8ccf348a4853186e2fa93e8b6"
          ]
        },
        "id": "apjPlP-ivAHf",
        "outputId": "c1145593-efbf-4d2f-d155-6e60d6d13636"
      },
      "source": [
        "# the \"approximant\" (jargon for parameterized waveform family).\n",
        "# IMRPhenomD is defined in the frequency domain, but we'll get it in the time domain (td).\n",
        "# It runs fast, but it doesn't include effects such as non-aligned component spin, or higher order modes.\n",
        "apx = 'IMRPhenomD'\n",
        "\n",
        "start_time = time.time()\n",
        "# You can specify many parameters, \n",
        "# https://pycbc.org/pycbc/latest/html/pycbc.waveform.html?highlight=get_td_waveform#pycbc.waveform.waveform.get_td_waveform\n",
        "# but here, we'll use defaults for everything except the masses.\n",
        "# It returns both hplus and hcross, but we'll only use hplus for now.\n",
        "# Training Data\n",
        "training_series = np.zeros(len(training_m1), dtype=object)\n",
        "with tqdm(total=len(training_m1)) as pbar:\n",
        "    for i in range(len(training_m1)):\n",
        "        hp1, _ = get_td_waveform(approximant=apx,\n",
        "                                mass1=training_m1[i],\n",
        "                                mass2=training_m2[i],\n",
        "                                delta_t=1.0/sample_rate,\n",
        "                                f_lower=25)\n",
        "\n",
        "        # The amplitude of gravitational-wave signals is normally of order 1E-20. To demonstrate our method\n",
        "        # on white noise with amplitude O(1) we normalize our signal so the cross-correlation of the signal with\n",
        "        # itself will give a value of 1. In this case we can interpret the cross-correlation of the signal with white\n",
        "        # noise as a signal-to-noise ratio.\n",
        "\n",
        "        hp1 = hp1 / max(np.correlate(hp1,hp1, mode='full'))**0.5\n",
        "        training_series[i] = hp1\n",
        "        pbar.update(1)\n",
        "\n",
        "print(\"--- %s seconds ---\" % (time.time() - start_time))\n",
        "print('Generated '+str(len(training_series))+' training times series.')"
      ],
      "execution_count": 113,
      "outputs": [
        {
          "output_type": "stream",
          "text": [
            "/usr/local/lib/python3.7/dist-packages/ipykernel_launcher.py:13: TqdmDeprecationWarning: This function will be removed in tqdm==5.0.0\n",
            "Please use `tqdm.notebook.tqdm` instead of `tqdm.tqdm_notebook`\n",
            "  del sys.path[0]\n"
          ],
          "name": "stderr"
        },
        {
          "output_type": "display_data",
          "data": {
            "application/vnd.jupyter.widget-view+json": {
              "model_id": "e119d83050e54a8ba27d26d2039b82df",
              "version_minor": 0,
              "version_major": 2
            },
            "text/plain": [
              "HBox(children=(FloatProgress(value=0.0, max=600.0), HTML(value='')))"
            ]
          },
          "metadata": {
            "tags": []
          }
        },
        {
          "output_type": "stream",
          "text": [
            "\n",
            "--- 206.43250036239624 seconds ---\n",
            "Generated 600 training times series.\n"
          ],
          "name": "stdout"
        }
      ]
    },
    {
      "cell_type": "markdown",
      "metadata": {
        "id": "ASjeXuDd2vKH"
      },
      "source": [
        "###### Testing Time Series"
      ]
    },
    {
      "cell_type": "code",
      "metadata": {
        "colab": {
          "base_uri": "https://localhost:8080/",
          "height": 158,
          "referenced_widgets": [
            "5be5202b224e42aabe0df64d070c0381",
            "9f7b2fcf6f884afba7d2a7b5b18c11e0",
            "a1d5655c053540f09aec300e4ce7db6e",
            "2c3407805a3e4d8c972cd4900495828f",
            "5102989ffe1144f6a2404413c890a341",
            "ec977410b917467f986a2f200062f3e7",
            "f0a82e60f34044e684ae1c8b06564374",
            "0931f713d2584270847ba71142f21a99"
          ]
        },
        "id": "bW-ueroR2yuf",
        "outputId": "d14bebc6-7f39-4984-e9d6-bcf848c4856f"
      },
      "source": [
        "start_time = time.time()\n",
        "testing_series = np.zeros(len(testing_m1), dtype=object)\n",
        "with tqdm(total=len(testing_m1)) as pbar:\n",
        "    for i in range(len(testing_m1)):\n",
        "        hp1, _ = get_td_waveform(approximant=apx,\n",
        "                                mass1=testing_m1[i],\n",
        "                                mass2=testing_m2[i],\n",
        "                                delta_t=1.0/sample_rate,\n",
        "                                f_lower=25)\n",
        "\n",
        "        # The amplitude of gravitational-wave signals is normally of order 1E-20. To demonstrate our method\n",
        "        # on white noise with amplitude O(1) we normalize our signal so the cross-correlation of the signal with\n",
        "        # itself will give a value of 1. In this case we can interpret the cross-correlation of the signal with white\n",
        "        # noise as a signal-to-noise ratio.\n",
        "\n",
        "        hp1 = hp1 / max(np.correlate(hp1,hp1, mode='full'))**0.5\n",
        "        testing_series[i] = hp1\n",
        "        pbar.update(1)\n",
        "\n",
        "print(\"--- %s seconds ---\" % (time.time() - start_time))\n",
        "print('Generated '+str(len(testing_series))+' testing times series.')"
      ],
      "execution_count": 114,
      "outputs": [
        {
          "output_type": "stream",
          "text": [
            "/usr/local/lib/python3.7/dist-packages/ipykernel_launcher.py:3: TqdmDeprecationWarning: This function will be removed in tqdm==5.0.0\n",
            "Please use `tqdm.notebook.tqdm` instead of `tqdm.tqdm_notebook`\n",
            "  This is separate from the ipykernel package so we can avoid doing imports until\n"
          ],
          "name": "stderr"
        },
        {
          "output_type": "display_data",
          "data": {
            "application/vnd.jupyter.widget-view+json": {
              "model_id": "5be5202b224e42aabe0df64d070c0381",
              "version_minor": 0,
              "version_major": 2
            },
            "text/plain": [
              "HBox(children=(FloatProgress(value=0.0, max=300.0), HTML(value='')))"
            ]
          },
          "metadata": {
            "tags": []
          }
        },
        {
          "output_type": "stream",
          "text": [
            "\n",
            "--- 133.47324061393738 seconds ---\n",
            "Generated 300 testing times series.\n"
          ],
          "name": "stdout"
        }
      ]
    },
    {
      "cell_type": "markdown",
      "metadata": {
        "id": "fXLMHecF3Lnn"
      },
      "source": [
        "###### Random sampling"
      ]
    },
    {
      "cell_type": "code",
      "metadata": {
        "colab": {
          "base_uri": "https://localhost:8080/",
          "height": 72
        },
        "id": "Ramu1L8J34zp",
        "outputId": "dc99f49e-064e-4614-cd88-d61aff2db217"
      },
      "source": [
        "'''\n",
        "n = 6    #number of samples\n",
        "learn_sample=[]\n",
        "for i in np.random.randint(0, len(learning_series), n):\n",
        "    test_sample.append(learing_series[i])\n",
        "# Visulization\n",
        "fig = plt.figure()\n",
        "fig.subplots_adjust(hspace=0.4, wspace=0.4)\n",
        " ax = fig.add_subplot(2, 3, n)\n",
        "    \n",
        "pylab.plot(hp.sample_times, hp, label='Plus Polarization')\n",
        "pylab.plot(hp.sample_times, hc, label='Cross Polarization')\n",
        "pylab.xlabel('Time (s)')\n",
        "pylab.legend()\n",
        "pylab.grid()\n",
        "pylab.show()'''"
      ],
      "execution_count": 116,
      "outputs": [
        {
          "output_type": "execute_result",
          "data": {
            "application/vnd.google.colaboratory.intrinsic+json": {
              "type": "string"
            },
            "text/plain": [
              "\"\\nn = 6    #number of samples\\nlearn_sample=[]\\nfor i in np.random.randint(0, len(learning_series), n):\\n    test_sample.append(learing_series[i])\\n# Visulization\\nfig = plt.figure()\\nfig.subplots_adjust(hspace=0.4, wspace=0.4)\\n ax = fig.add_subplot(2, 3, n)\\n    \\npylab.plot(hp.sample_times, hp, label='Plus Polarization')\\npylab.plot(hp.sample_times, hc, label='Cross Polarization')\\npylab.xlabel('Time (s)')\\npylab.legend()\\npylab.grid()\\npylab.show()\""
            ]
          },
          "metadata": {
            "tags": []
          },
          "execution_count": 116
        }
      ]
    },
    {
      "cell_type": "markdown",
      "metadata": {
        "id": "yDSo7rOLkJT-"
      },
      "source": [
        "### 1.3 Generating White Noise and Gaussian Noise\n",
        "##### *Reference*:\n",
        "[gw-odw/odw-2020](http://github.com/gw-odw/odw-2020)"
      ]
    },
    {
      "cell_type": "code",
      "metadata": {
        "id": "twdpIG1mkWdR"
      },
      "source": [
        "# specify the sample rate.\n",
        "# LIGO raw data is sampled at 16384 Hz (=2^14 samples/second).\n",
        "# It captures signal frequency content up to f_Nyquist = 8192 Hz.\n",
        "# Here, we will make the computation faster by sampling at a lower rate.\n",
        "sample_rate = 1024 # samples per second\n",
        "data_length = 1024 # seconds\n",
        "\n",
        "# Generate a long stretch of white noise: the data series and the time series.\n",
        "data = np.random.normal(size=[sample_rate * data_length])\n",
        "times = np.arange(len(data)) / float(sample_rate)"
      ],
      "execution_count": 90,
      "outputs": []
    },
    {
      "cell_type": "code",
      "metadata": {
        "colab": {
          "base_uri": "https://localhost:8080/",
          "height": 869
        },
        "id": "AUmPQeEW4SwS",
        "outputId": "11339c88-b79f-4a48-c2e2-c970058ebf47"
      },
      "source": [
        "# note that in this figure, the waveform amplitude is of order 1.\n",
        "# The duration (for frequency above f_lower=25 Hz) is only 3 or 4 seconds long.\n",
        "# The waveform is \"tapered\": slowly ramped up from zero to full strength, over the first second or so.\n",
        "# It is zero-padded at earlier times.\n",
        "pylab.figure()\n",
        "pylab.title(\"The waveform hp1\")\n",
        "pylab.plot(hp1.sample_times, hp1)\n",
        "pylab.xlabel('Time (s)')\n",
        "pylab.ylabel('Normalized amplitude')\n",
        "\n",
        "# Shift the waveform to start at a random time in the Gaussian noise data.\n",
        "waveform_start = np.random.randint(0, len(data) - len(hp1))\n",
        "data[waveform_start:waveform_start+len(hp1)] += 10 * hp1.numpy()\n",
        "\n",
        "pylab.figure()\n",
        "pylab.title(\"Looks like random noise\")\n",
        "pylab.plot(hp1.sample_times, data[waveform_start:waveform_start+len(hp1)])\n",
        "pylab.xlabel('Time (s)')\n",
        "pylab.ylabel('Normalized amplitude')\n",
        "\n",
        "pylab.figure()\n",
        "pylab.title(\"Signal in the data\")\n",
        "pylab.plot(hp1.sample_times, data[waveform_start:waveform_start+len(hp1)])\n",
        "pylab.plot(hp1.sample_times, 10 * hp1)\n",
        "pylab.xlabel('Time (s)')\n",
        "pylab.ylabel('Normalized amplitude')"
      ],
      "execution_count": 117,
      "outputs": [
        {
          "output_type": "execute_result",
          "data": {
            "text/plain": [
              "Text(0, 0.5, 'Normalized amplitude')"
            ]
          },
          "metadata": {
            "tags": []
          },
          "execution_count": 117
        },
        {
          "output_type": "display_data",
          "data": {
            "image/png": "[encoded data removed]",
            "text/plain": [
              "<Figure size 432x288 with 1 Axes>"
            ]
          },
          "metadata": {
            "tags": [],
            "needs_background": "light"
          }
        },
        {
          "output_type": "display_data",
          "data": {
            "image/png": "[encoded data removed]",
            "text/plain": [
              "<Figure size 432x288 with 1 Axes>"
            ]
          },
          "metadata": {
            "tags": [],
            "needs_background": "light"
          }
        },
        {
          "output_type": "display_data",
          "data": {
            "image/png": "[encoded data removed]",
            "text/plain": [
              "<Figure size 432x288 with 1 Axes>"
            ]
          },
          "metadata": {
            "tags": [],
            "needs_background": "light"
          }
        }
      ]
    },
    {
      "cell_type": "markdown",
      "metadata": {
        "id": "huNs6TwhkZXo"
      },
      "source": [
        "### 1.4 Generating Advanced LIGO Noise\n"
      ]
    }
  ]
}